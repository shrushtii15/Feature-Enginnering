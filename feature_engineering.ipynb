{
  "nbformat": 4,
  "nbformat_minor": 0,
  "metadata": {
    "colab": {
      "provenance": []
    },
    "kernelspec": {
      "name": "python3",
      "display_name": "Python 3"
    },
    "language_info": {
      "name": "python"
    }
  },
  "cells": [
    {
      "cell_type": "markdown",
      "source": [
        "ASSIGNMENT QUESTIoN\n"
      ],
      "metadata": {
        "id": "7BBJjJGdwtCB"
      }
    },
    {
      "cell_type": "markdown",
      "source": [
        "1. What is a parameter?\n",
        "  - A value the model learns from data, like weights.\n",
        "\n",
        "2. What is correlation?\n",
        "   - It shows how two variables change together.\n",
        "\n",
        "3. What does negative correlation mean?\n",
        "  - As one value increases, the other decreases.\n",
        "\n",
        "4. What is Machine Learning? What are its main components?\n",
        "  - It lets computers learn from data. Components: data, model, loss, optimizer, evaluation.\n",
        "\n",
        "5. How does loss value help?\n",
        "  - It shows how wrong the models predictions are. Lower is better.\n",
        "\n",
        "6. What are continuous and categorical variables?\n",
        "  - Continuous = numerical (like age). Categorical = labels (like color).\n",
        "\n",
        "7. How do we handle categorical variables?\n",
        "  - Using label encoding, one-hot encoding, or ordinal encoding.\n",
        "\n",
        "8. What do training and testing a dataset mean?\n",
        "  - Training is for learning. Testing is for checking performance.\n",
        "\n",
        "9. What is sklearn.preprocessing?\n",
        "   - A module for scaling and encoding data.\n",
        "\n",
        "10. What is a test set?\n",
        "  -  Data used to test how well the model works.\n",
        "\n",
        "11. How do we split data in Python?\n",
        "   - Use `train_test_split()` from sklearn.\n",
        "\n",
        "12. How do you approach a machine learning problem?\n",
        "   - Understand → Clean → Analyze → Train → Test → Improve.\n",
        "\n",
        "13. Why perform EDA before training?\n",
        "   - To understand the data and fix issues.\n",
        "\n",
        "14. What is correlation?\n",
        "   - Shows how two things are related.\n",
        "\n",
        "15. What does negative correlation mean?\n",
        "   - When one increases, the other decreases.\n",
        "\n",
        "16. How to find correlation in Python?\n",
        "  -  Use `df.corr()` with pandas.\n",
        "\n",
        "17. What is causation? Difference from correlation?\n",
        "   - Causation means one thing causes another. Correlation just shows a link.\n",
        "\n",
        "18. What is an optimizer? Types?\n",
        "   - It updates model to reduce loss. Types: SGD, Adam, RMSprop.\n",
        "\n",
        "19. What is sklearn.linear\\_model?\n",
        "   - A module with linear models like LinearRegression.\n",
        "\n",
        "20. What does model.fit() do?\n",
        "   - Trains the model using input and target data.\n",
        "\n",
        "21. What does model.predict() do?\n",
        "   - Makes predictions from new input data.\n",
        "\n",
        "22. What are continuous and categorical variables?\n",
        "   - Same as question 6.\n",
        "\n",
        "23. What is feature scaling?\n",
        "   - It puts all features on a similar scale.\n",
        "\n",
        "24. How to scale data in Python?\n",
        "  - BY using `StandardScaler` or `MinMaxScaler` from sklearn.\n",
        "\n",
        "25. What is sklearn.preprocessing?\n",
        "   - Same as question 9.\n",
        "\n",
        "26. How to split data for training/testing?\n",
        "   - By using train_test_split()\n",
        "\n",
        "27. What is data encoding?\n",
        "    Changing text categories into numbers."
      ],
      "metadata": {
        "id": "WsnwLA6Wwnh9"
      }
    },
    {
      "cell_type": "code",
      "execution_count": null,
      "metadata": {
        "id": "XX70Ra6Muxiq"
      },
      "outputs": [],
      "source": [
        "\n",
        "\n",
        "\n",
        "\n",
        "---\n",
        "\n",
        "Let me know if you’d like this in PDF, Word, or any other format.\n"
      ]
    }
  ]
}